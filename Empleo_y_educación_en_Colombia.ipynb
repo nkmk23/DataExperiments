{
  "nbformat": 4,
  "nbformat_minor": 0,
  "metadata": {
    "colab": {
      "provenance": [],
      "authorship_tag": "ABX9TyPN7CS5Q8P1oIysYlPUPQWN"
    },
    "kernelspec": {
      "name": "python3",
      "display_name": "Python 3"
    },
    "language_info": {
      "name": "python"
    }
  },
  "cells": [
    {
      "cell_type": "code",
      "execution_count": null,
      "metadata": {
        "id": "a98-Jazi8Slq"
      },
      "outputs": [],
      "source": []
    }
  ]
}